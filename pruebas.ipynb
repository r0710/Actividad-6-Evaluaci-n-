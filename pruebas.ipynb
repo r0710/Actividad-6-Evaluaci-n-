{
 "cells": [
  {
   "cell_type": "code",
   "execution_count": 1,
   "metadata": {},
   "outputs": [],
   "source": [
    "import Libreria_examen as lp"
   ]
  },
  {
   "cell_type": "code",
   "execution_count": 2,
   "metadata": {},
   "outputs": [],
   "source": [
    "df_original = lp.cargar_dataset('Boston_United States.csv')"
   ]
  },
  {
   "cell_type": "code",
   "execution_count": 7,
   "metadata": {},
   "outputs": [
    {
     "data": {
      "text/plain": [
       "('Valores nulos por columna:',\n",
       " host_listings_count                0\n",
       " neighbourhood_group_cleansed       0\n",
       " longitude                          0\n",
       " bathrooms                          0\n",
       " beds                               0\n",
       " maximum_nights                     0\n",
       " maximum_minimum_nights             0\n",
       " maximum_maximum_nights             0\n",
       " maximum_nights_avg_ntm             0\n",
       " availability_30                    0\n",
       " availability_90                    0\n",
       " number_of_reviews_ltm              0\n",
       " review_scores_rating               0\n",
       " review_scores_checkin              0\n",
       " review_scores_location             0\n",
       " last_scraped                       0\n",
       " host_since                         0\n",
       " host_location                      0\n",
       " host_response_time                 0\n",
       " host_response_rate                 0\n",
       " host_acceptance_rate               0\n",
       " host_is_superhost                  0\n",
       " host_neighbourhood                 0\n",
       " host_verifications                 0\n",
       " host_identity_verified             0\n",
       " neighbourhood                      0\n",
       " neighbourhood_cleansed             0\n",
       " property_type                      0\n",
       " room_type                          0\n",
       " amenities                          0\n",
       " price                              0\n",
       " has_availability                   0\n",
       " calendar_last_scraped              0\n",
       " first_review                       0\n",
       " last_review                        0\n",
       " Unnamed: 0                         0\n",
       " host_total_listings_count          0\n",
       " latitude                           0\n",
       " accommodates                       0\n",
       " bedrooms                           0\n",
       " minimum_nights                     0\n",
       " minimum_minimum_nights             0\n",
       " minimum_maximum_nights             0\n",
       " minimum_nights_avg_ntm             0\n",
       " calendar_updated                4426\n",
       " availability_60                    0\n",
       " number_of_reviews                  0\n",
       " number_of_reviews_l30d             0\n",
       " review_scores_accuracy             0\n",
       " review_scores_communication        0\n",
       " review_scores_value                0\n",
       " dtype: int64,\n",
       " 'Valores nulos en total:',\n",
       " np.int64(4426))"
      ]
     },
     "execution_count": 7,
     "metadata": {},
     "output_type": "execute_result"
    }
   ],
   "source": [
    "dt_limpio = lp.vn_completo(df_original)\n",
    "lp.val_nu(dt_limpio)"
   ]
  },
  {
   "cell_type": "code",
   "execution_count": 8,
   "metadata": {},
   "outputs": [
    {
     "data": {
      "text/plain": [
       "('Valores nulos por columna:',\n",
       " Unnamed: 0                         0\n",
       " host_listings_count                0\n",
       " host_total_listings_count          0\n",
       " neighbourhood_group_cleansed    4426\n",
       " latitude                           0\n",
       " longitude                          0\n",
       " accommodates                       0\n",
       " bathrooms                          0\n",
       " bedrooms                           0\n",
       " beds                               0\n",
       " minimum_nights                     0\n",
       " maximum_nights                     0\n",
       " minimum_minimum_nights             0\n",
       " maximum_minimum_nights             0\n",
       " minimum_maximum_nights             0\n",
       " maximum_maximum_nights             0\n",
       " minimum_nights_avg_ntm             0\n",
       " maximum_nights_avg_ntm             0\n",
       " calendar_updated                4426\n",
       " availability_30                    0\n",
       " availability_60                    0\n",
       " availability_90                    0\n",
       " number_of_reviews                  0\n",
       " number_of_reviews_ltm              0\n",
       " number_of_reviews_l30d             0\n",
       " review_scores_rating               0\n",
       " review_scores_accuracy             0\n",
       " review_scores_checkin              0\n",
       " review_scores_communication        0\n",
       " review_scores_location             0\n",
       " review_scores_value                0\n",
       " dtype: int64,\n",
       " 'Valores nulos en total:',\n",
       " np.int64(8852))"
      ]
     },
     "execution_count": 8,
     "metadata": {},
     "output_type": "execute_result"
    }
   ],
   "source": [
    "df_a = lp.val_ati(df_original)\n",
    "lp.val_nu(df_a)"
   ]
  }
 ],
 "metadata": {
  "kernelspec": {
   "display_name": "Python 3",
   "language": "python",
   "name": "python3"
  },
  "language_info": {
   "codemirror_mode": {
    "name": "ipython",
    "version": 3
   },
   "file_extension": ".py",
   "mimetype": "text/x-python",
   "name": "python",
   "nbconvert_exporter": "python",
   "pygments_lexer": "ipython3",
   "version": "3.13.2"
  }
 },
 "nbformat": 4,
 "nbformat_minor": 2
}
